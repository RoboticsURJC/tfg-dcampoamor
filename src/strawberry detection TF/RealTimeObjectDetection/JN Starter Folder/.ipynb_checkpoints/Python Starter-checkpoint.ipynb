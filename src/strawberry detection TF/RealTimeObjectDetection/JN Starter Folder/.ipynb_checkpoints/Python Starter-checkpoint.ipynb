{
 "cells": [
  {
   "cell_type": "markdown",
   "id": "6447bcad",
   "metadata": {},
   "source": [
    "<h1 style=\"font-size:3rem;color:orange;\">Jupyter Notebook Tutorial </h1>"
   ]
  },
  {
   "cell_type": "markdown",
   "id": "bf2341f1",
   "metadata": {},
   "source": [
    "# Python for Beginners"
   ]
  },
  {
   "cell_type": "markdown",
   "id": "48bb2566",
   "metadata": {},
   "source": [
    "<img src=\"https://picsum.photos/id/0/400/400\">"
   ]
  },
  {
   "cell_type": "markdown",
   "id": "568d09df",
   "metadata": {},
   "source": [
    "## Basic Output"
   ]
  },
  {
   "cell_type": "code",
   "execution_count": 1,
   "id": "790dfafb",
   "metadata": {},
   "outputs": [
    {
     "name": "stdout",
     "output_type": "stream",
     "text": [
      "Hello World!\n"
     ]
    }
   ],
   "source": [
    "print (\"Hello World!\")"
   ]
  },
  {
   "cell_type": "markdown",
   "id": "97ee15de",
   "metadata": {},
   "source": [
    "## Insert a variable into a string"
   ]
  },
  {
   "cell_type": "code",
   "execution_count": 2,
   "id": "f1bad4b0",
   "metadata": {},
   "outputs": [
    {
     "name": "stdout",
     "output_type": "stream",
     "text": [
      "What's your name? \n",
      "David\n",
      "Hello, David!\n"
     ]
    }
   ],
   "source": [
    "person = input (\"What's your name? \\n\")\n",
    "message = \"Hello, {}!\".format(person)\n",
    "print(message)"
   ]
  },
  {
   "cell_type": "markdown",
   "id": "7a74b440",
   "metadata": {},
   "source": [
    "## Multiple Strings and String Length"
   ]
  },
  {
   "cell_type": "code",
   "execution_count": 3,
   "id": "ff186763",
   "metadata": {},
   "outputs": [
    {
     "name": "stdout",
     "output_type": "stream",
     "text": [
      "Once upon a time\n",
      "there live a bear family\n",
      "who ate delicious pizza\n",
      "The length os the story is 65 characters\n"
     ]
    }
   ],
   "source": [
    "story = \"\"\"Once upon a time\n",
    "there live a bear family\n",
    "who ate delicious pizza\"\"\"\n",
    "print(story)\n",
    "print(\"The length os the story is\",len(story),\"characters\")"
   ]
  },
  {
   "cell_type": "markdown",
   "id": "69a446c8",
   "metadata": {},
   "source": [
    "## Math Operations"
   ]
  },
  {
   "cell_type": "code",
   "execution_count": 4,
   "id": "3389585e",
   "metadata": {},
   "outputs": [
    {
     "name": "stdout",
     "output_type": "stream",
     "text": [
      "The result of z is: 5.25\n",
      "The modulo of z is: 1\n"
     ]
    }
   ],
   "source": [
    "x = 7\n",
    "y = 4\n",
    "z = (x * 3) / y\n",
    "m = (x * 3) % y #modulo returns the remainder \n",
    "print(\"The result of z is:\", z)\n",
    "print(\"The modulo of z is:\", m)"
   ]
  },
  {
   "cell_type": "markdown",
   "id": "8d3865f5",
   "metadata": {},
   "source": [
    "## List (arrays)"
   ]
  },
  {
   "cell_type": "code",
   "execution_count": 5,
   "id": "657dcc82",
   "metadata": {},
   "outputs": [
    {
     "name": "stdout",
     "output_type": "stream",
     "text": [
      "Rachel\n"
     ]
    }
   ],
   "source": [
    "friends = ['Monica', 'Phoebe', 'Rachel', 'Chandler', 'Joey', 'Ross']\n",
    "print(friends [2])"
   ]
  }
 ],
 "metadata": {
  "kernelspec": {
   "display_name": "real_object_detection",
   "language": "python",
   "name": "real_object_detection"
  },
  "language_info": {
   "codemirror_mode": {
    "name": "ipython",
    "version": 3
   },
   "file_extension": ".py",
   "mimetype": "text/x-python",
   "name": "python",
   "nbconvert_exporter": "python",
   "pygments_lexer": "ipython3",
   "version": "3.8.16"
  }
 },
 "nbformat": 4,
 "nbformat_minor": 5
}
