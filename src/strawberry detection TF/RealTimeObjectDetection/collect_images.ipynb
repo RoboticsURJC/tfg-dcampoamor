{
 "cells": [
  {
   "cell_type": "code",
   "execution_count": null,
   "id": "c081f128",
   "metadata": {},
   "outputs": [],
   "source": [
    "import cv2 #opencv\n",
    "import os\n",
    "import lite\n",
    "import uuid"
   ]
  },
  {
   "cell_type": "code",
   "execution_count": null,
   "id": "3aa7c94c",
   "metadata": {},
   "outputs": [],
   "source": [
    "IMAGES_PATH = 'Tensorflow/worspace/images/collectedimages'"
   ]
  },
  {
   "cell_type": "code",
   "execution_count": null,
   "id": "1095ccfb",
   "metadata": {},
   "outputs": [],
   "source": [
    "labels = ['Fresa']\n",
    "number_imgs = 15 #Número de imágenes a capturar"
   ]
  },
  {
   "cell_type": "code",
   "execution_count": null,
   "id": "6f9eda7e",
   "metadata": {},
   "outputs": [],
   "source": [
    "for label in labels:\n",
    "    #Creamos un directorio para cada una de las etiquetas\n",
    "    !mkdir {'Tensorflow\\workspace\\images\\collectedimages\\\\' +label} \n",
    "    cap = cv2.VideoCapture(0) #Abrimos la captura de vídeo (inicializamos webcam)\n",
    "    print('Collecting images for {}'.format(label))\n",
    "    time.sleep(5)\n",
    "    for imgnum in range(number_imgs):\n",
    "        ret, frame = cap.read() #Representa la imagen actual\n",
    "        #Nos aseguramos de que cada imagen tiene un nombre individual y de esta manera no se repite ninguna\n",
    "        imgname = os.path.join(IMAGES_PATH, label, label+'.'+' {}.jpg'.format(str(uuid.uuid1())))\n",
    "        cv2.imwrite(imgname, frame)\n",
    "        cv2.imshow('frame', frame)\n",
    "        time.sleep(2)\n",
    "        \n",
    "        if cv2.waitKey(1) & 0xFF == ord('q'):\n",
    "            break\n",
    "        cap.release()"
   ]
  }
 ],
 "metadata": {
  "kernelspec": {
   "display_name": "Python 3 (ipykernel)",
   "language": "python",
   "name": "python3"
  },
  "language_info": {
   "codemirror_mode": {
    "name": "ipython",
    "version": 3
   },
   "file_extension": ".py",
   "mimetype": "text/x-python",
   "name": "python",
   "nbconvert_exporter": "python",
   "pygments_lexer": "ipython3",
   "version": "3.11.3"
  }
 },
 "nbformat": 4,
 "nbformat_minor": 5
}
